{
 "cells": [
  {
   "cell_type": "markdown",
   "id": "weekly-fight",
   "metadata": {},
   "source": [
    "Гномы добывают золото, периодически сообщая о своей щедрости. На этой операции по добыче полезных ископаемых использовались инструменты двух поколений, некоторые гномы были оснащены инструментами 1-го поколения, другие - 2-го поколения. После внедрения инструментов нового поколения генеральный директор Gnome Inc заметил, что производительность не соответствует его ожиданиям. Вы, как аналитик Gnome Inc, должны подтвердить или опровергнуть опасения генерального директора, подкрепляя свои выводы холодными достоверными данными."
   ]
  },
  {
   "cell_type": "markdown",
   "id": "selective-sunglasses",
   "metadata": {},
   "source": [
    "Описание данных\n",
    "\n",
    "1) dwarf_id -  индекс гнома \n",
    "\n",
    "2) hired_date - дата, когда гнома взяли на работу \n",
    "\n",
    "3) reported_date - дата за которую было собрано золото\n",
    "\n",
    "4) gold_mined - к-во золото, собранное за reported date\n",
    "\n",
    "5) hammer_date - (поколение инструментов)"
   ]
  },
  {
   "cell_type": "code",
   "execution_count": 117,
   "id": "sound-morgan",
   "metadata": {},
   "outputs": [],
   "source": [
    "import pandas as pd\n",
    "import os\n",
    "import seaborn as sns\n",
    "import matplotlib.pyplot as plt\n",
    "import datetime as dt\n",
    "\n",
    "import numpy as np\n",
    "import pandas as pd\n",
    "from scipy.stats import norm, mannwhitneyu\n",
    "import matplotlib.pyplot as plt\n",
    "import seaborn as sns\n",
    "from scipy.stats import mannwhitneyu\n",
    "\n",
    "from tqdm.auto import tqdm\n",
    "\n",
    "plt.style.use('ggplot')"
   ]
  },
  {
   "cell_type": "code",
   "execution_count": 13,
   "id": "computational-developer",
   "metadata": {},
   "outputs": [],
   "source": [
    "df = pd.read_csv('https://docs.google.com/spreadsheets/d/e/2PACX-1vRXjhK8_pnLOGkGdFWvPLVz0QUtvbmvx8kCitzv-rkBYHNMgwZrs5YMzo8J13fPdqX0wnNja92YALAM/pub?gid=1076005889&single=true&output=csv')"
   ]
  },
  {
   "cell_type": "code",
   "execution_count": 14,
   "id": "simple-professional",
   "metadata": {},
   "outputs": [
    {
     "data": {
      "text/html": [
       "<div>\n",
       "<style scoped>\n",
       "    .dataframe tbody tr th:only-of-type {\n",
       "        vertical-align: middle;\n",
       "    }\n",
       "\n",
       "    .dataframe tbody tr th {\n",
       "        vertical-align: top;\n",
       "    }\n",
       "\n",
       "    .dataframe thead th {\n",
       "        text-align: right;\n",
       "    }\n",
       "</style>\n",
       "<table border=\"1\" class=\"dataframe\">\n",
       "  <thead>\n",
       "    <tr style=\"text-align: right;\">\n",
       "      <th></th>\n",
       "      <th>dwarf_id</th>\n",
       "      <th>hired_date</th>\n",
       "      <th>reported_date</th>\n",
       "      <th>gold_mined</th>\n",
       "      <th>hammer_date</th>\n",
       "    </tr>\n",
       "  </thead>\n",
       "  <tbody>\n",
       "    <tr>\n",
       "      <th>0</th>\n",
       "      <td>1</td>\n",
       "      <td>2014-01-01</td>\n",
       "      <td>2014-01-31</td>\n",
       "      <td>656</td>\n",
       "      <td>2014-01-01</td>\n",
       "    </tr>\n",
       "    <tr>\n",
       "      <th>1</th>\n",
       "      <td>1</td>\n",
       "      <td>2014-01-01</td>\n",
       "      <td>2014-02-28</td>\n",
       "      <td>565</td>\n",
       "      <td>2014-01-01</td>\n",
       "    </tr>\n",
       "    <tr>\n",
       "      <th>2</th>\n",
       "      <td>1</td>\n",
       "      <td>2014-01-01</td>\n",
       "      <td>2014-03-31</td>\n",
       "      <td>516</td>\n",
       "      <td>2014-01-01</td>\n",
       "    </tr>\n",
       "    <tr>\n",
       "      <th>3</th>\n",
       "      <td>1</td>\n",
       "      <td>2014-01-01</td>\n",
       "      <td>2014-04-30</td>\n",
       "      <td>568</td>\n",
       "      <td>2014-01-01</td>\n",
       "    </tr>\n",
       "    <tr>\n",
       "      <th>4</th>\n",
       "      <td>1</td>\n",
       "      <td>2014-01-01</td>\n",
       "      <td>2014-05-31</td>\n",
       "      <td>556</td>\n",
       "      <td>2014-01-01</td>\n",
       "    </tr>\n",
       "    <tr>\n",
       "      <th>...</th>\n",
       "      <td>...</td>\n",
       "      <td>...</td>\n",
       "      <td>...</td>\n",
       "      <td>...</td>\n",
       "      <td>...</td>\n",
       "    </tr>\n",
       "    <tr>\n",
       "      <th>13488</th>\n",
       "      <td>2673</td>\n",
       "      <td>2015-08-01</td>\n",
       "      <td>2015-08-31</td>\n",
       "      <td>695</td>\n",
       "      <td>2015-01-01</td>\n",
       "    </tr>\n",
       "    <tr>\n",
       "      <th>13489</th>\n",
       "      <td>2674</td>\n",
       "      <td>2015-08-01</td>\n",
       "      <td>2015-08-31</td>\n",
       "      <td>573</td>\n",
       "      <td>2015-01-01</td>\n",
       "    </tr>\n",
       "    <tr>\n",
       "      <th>13490</th>\n",
       "      <td>2675</td>\n",
       "      <td>2015-08-01</td>\n",
       "      <td>2015-08-31</td>\n",
       "      <td>617</td>\n",
       "      <td>2015-01-01</td>\n",
       "    </tr>\n",
       "    <tr>\n",
       "      <th>13491</th>\n",
       "      <td>2676</td>\n",
       "      <td>2015-08-01</td>\n",
       "      <td>2015-08-31</td>\n",
       "      <td>609</td>\n",
       "      <td>2015-01-01</td>\n",
       "    </tr>\n",
       "    <tr>\n",
       "      <th>13492</th>\n",
       "      <td>2677</td>\n",
       "      <td>2015-08-01</td>\n",
       "      <td>2015-08-31</td>\n",
       "      <td>622</td>\n",
       "      <td>2015-01-01</td>\n",
       "    </tr>\n",
       "  </tbody>\n",
       "</table>\n",
       "<p>13493 rows × 5 columns</p>\n",
       "</div>"
      ],
      "text/plain": [
       "       dwarf_id  hired_date reported_date  gold_mined hammer_date\n",
       "0             1  2014-01-01    2014-01-31         656  2014-01-01\n",
       "1             1  2014-01-01    2014-02-28         565  2014-01-01\n",
       "2             1  2014-01-01    2014-03-31         516  2014-01-01\n",
       "3             1  2014-01-01    2014-04-30         568  2014-01-01\n",
       "4             1  2014-01-01    2014-05-31         556  2014-01-01\n",
       "...         ...         ...           ...         ...         ...\n",
       "13488      2673  2015-08-01    2015-08-31         695  2015-01-01\n",
       "13489      2674  2015-08-01    2015-08-31         573  2015-01-01\n",
       "13490      2675  2015-08-01    2015-08-31         617  2015-01-01\n",
       "13491      2676  2015-08-01    2015-08-31         609  2015-01-01\n",
       "13492      2677  2015-08-01    2015-08-31         622  2015-01-01\n",
       "\n",
       "[13493 rows x 5 columns]"
      ]
     },
     "execution_count": 14,
     "metadata": {},
     "output_type": "execute_result"
    }
   ],
   "source": [
    "df"
   ]
  },
  {
   "cell_type": "code",
   "execution_count": 122,
   "id": "turned-pound",
   "metadata": {},
   "outputs": [
    {
     "data": {
      "text/plain": [
       "dwarf_id         0\n",
       "hired_date       0\n",
       "reported_date    0\n",
       "gold_mined       0\n",
       "hammer_date      0\n",
       "yar              0\n",
       "distance         0\n",
       "dtype: int64"
      ]
     },
     "execution_count": 122,
     "metadata": {},
     "output_type": "execute_result"
    }
   ],
   "source": [
    "df.isna().sum()"
   ]
  },
  {
   "cell_type": "code",
   "execution_count": 123,
   "id": "dramatic-milan",
   "metadata": {},
   "outputs": [
    {
     "data": {
      "text/plain": [
       "0"
      ]
     },
     "execution_count": 123,
     "metadata": {},
     "output_type": "execute_result"
    }
   ],
   "source": [
    "df.duplicated().sum()"
   ]
  },
  {
   "cell_type": "code",
   "execution_count": 124,
   "id": "separated-swiss",
   "metadata": {},
   "outputs": [
    {
     "name": "stdout",
     "output_type": "stream",
     "text": [
      "<class 'pandas.core.frame.DataFrame'>\n",
      "RangeIndex: 13493 entries, 0 to 13492\n",
      "Data columns (total 7 columns):\n",
      " #   Column         Non-Null Count  Dtype         \n",
      "---  ------         --------------  -----         \n",
      " 0   dwarf_id       13493 non-null  int64         \n",
      " 1   hired_date     13493 non-null  datetime64[ns]\n",
      " 2   reported_date  13493 non-null  datetime64[ns]\n",
      " 3   gold_mined     13493 non-null  int64         \n",
      " 4   hammer_date    13493 non-null  object        \n",
      " 5   yar            13493 non-null  datetime64[ns]\n",
      " 6   distance       13493 non-null  int64         \n",
      "dtypes: datetime64[ns](3), int64(3), object(1)\n",
      "memory usage: 738.0+ KB\n"
     ]
    }
   ],
   "source": [
    "df.info()"
   ]
  },
  {
   "cell_type": "code",
   "execution_count": 125,
   "id": "affected-speed",
   "metadata": {},
   "outputs": [],
   "source": [
    "df['hired_date'] = pd.to_datetime(df['hired_date'])"
   ]
  },
  {
   "cell_type": "code",
   "execution_count": 126,
   "id": "liquid-filling",
   "metadata": {},
   "outputs": [
    {
     "data": {
      "text/plain": [
       "Timestamp('2015-08-31 00:00:00')"
      ]
     },
     "execution_count": 126,
     "metadata": {},
     "output_type": "execute_result"
    }
   ],
   "source": [
    "df.reported_date.max()\n"
   ]
  },
  {
   "cell_type": "markdown",
   "id": "described-slovenia",
   "metadata": {},
   "source": [
    "1)  считаем ср. доход на гнома в 1 день.\n",
    "\n",
    "2) Проверяем статистическую значимое различие в средних\n",
    "\n",
    "3) Исключим все отчеты, которые приходили позже 2014-08-31 для группы А, чтобы снизить риск возникновения сезонного фактора"
   ]
  },
  {
   "cell_type": "code",
   "execution_count": 135,
   "id": "supreme-lunch",
   "metadata": {},
   "outputs": [],
   "source": [
    "# Находим, время от начала работы до отчета\n",
    "df['reported_date'] = pd.to_datetime(df['reported_date'])\n",
    "df['distance'] = (df['reported_date'] - df['hired_date']).apply(lambda x: x.days)"
   ]
  },
  {
   "cell_type": "code",
   "execution_count": null,
   "id": "invalid-statement",
   "metadata": {},
   "outputs": [],
   "source": []
  },
  {
   "cell_type": "code",
   "execution_count": null,
   "id": "executive-sponsorship",
   "metadata": {},
   "outputs": [],
   "source": []
  },
  {
   "cell_type": "code",
   "execution_count": 137,
   "id": "fundamental-bride",
   "metadata": {},
   "outputs": [],
   "source": [
    "#Посмотрим как меняется доход на пользователя с временем его работы\n",
    "df_distance_2014 = df.query('hammer_date == \"2014-01-01\" and reported_date <\"2014-08-31\"')\\\n",
    "    .groupby('distance', as_index=False)\\\n",
    "    .agg({'gold_mined':'mean'})\n",
    "\n"
   ]
  },
  {
   "cell_type": "code",
   "execution_count": 96,
   "id": "affecting-attachment",
   "metadata": {},
   "outputs": [
    {
     "data": {
      "text/plain": [
       "<AxesSubplot:xlabel='distance', ylabel='gold_mined'>"
      ]
     },
     "execution_count": 96,
     "metadata": {},
     "output_type": "execute_result"
    },
    {
     "data": {
      "image/png": "[encoded data removed]",
      "text/plain": [
       "<Figure size 432x288 with 1 Axes>"
      ]
     },
     "metadata": {
      "needs_background": "light"
     },
     "output_type": "display_data"
    }
   ],
   "source": [
    "sns.lineplot(data=df_distance_2014, x='distance', y='gold_mined')"
   ]
  },
  {
   "cell_type": "code",
   "execution_count": null,
   "id": "fitting-atlas",
   "metadata": {},
   "outputs": [],
   "source": []
  },
  {
   "cell_type": "code",
   "execution_count": 138,
   "id": "approximate-cotton",
   "metadata": {},
   "outputs": [
    {
     "data": {
      "text/html": [
       "<div>\n",
       "<style scoped>\n",
       "    .dataframe tbody tr th:only-of-type {\n",
       "        vertical-align: middle;\n",
       "    }\n",
       "\n",
       "    .dataframe tbody tr th {\n",
       "        vertical-align: top;\n",
       "    }\n",
       "\n",
       "    .dataframe thead th {\n",
       "        text-align: right;\n",
       "    }\n",
       "</style>\n",
       "<table border=\"1\" class=\"dataframe\">\n",
       "  <thead>\n",
       "    <tr style=\"text-align: right;\">\n",
       "      <th></th>\n",
       "      <th>distance</th>\n",
       "      <th>gold_mined</th>\n",
       "    </tr>\n",
       "  </thead>\n",
       "  <tbody>\n",
       "    <tr>\n",
       "      <th>0</th>\n",
       "      <td>27</td>\n",
       "      <td>640.602094</td>\n",
       "    </tr>\n",
       "    <tr>\n",
       "      <th>1</th>\n",
       "      <td>29</td>\n",
       "      <td>637.784211</td>\n",
       "    </tr>\n",
       "    <tr>\n",
       "      <th>2</th>\n",
       "      <td>30</td>\n",
       "      <td>638.083175</td>\n",
       "    </tr>\n",
       "    <tr>\n",
       "      <th>3</th>\n",
       "      <td>58</td>\n",
       "      <td>623.726937</td>\n",
       "    </tr>\n",
       "    <tr>\n",
       "      <th>4</th>\n",
       "      <td>60</td>\n",
       "      <td>622.505080</td>\n",
       "    </tr>\n",
       "  </tbody>\n",
       "</table>\n",
       "</div>"
      ],
      "text/plain": [
       "   distance  gold_mined\n",
       "0        27  640.602094\n",
       "1        29  637.784211\n",
       "2        30  638.083175\n",
       "3        58  623.726937\n",
       "4        60  622.505080"
      ]
     },
     "execution_count": 138,
     "metadata": {},
     "output_type": "execute_result"
    }
   ],
   "source": [
    "df_distance_2015 = df.query('hammer_date == \"2015-01-01\" and reported_date >\"2015-01-01\"')\\\n",
    "    .groupby('distance', as_index=False)\\\n",
    "    .agg({'gold_mined':'mean'})\n",
    "df_distance_2015.head(5)"
   ]
  },
  {
   "cell_type": "code",
   "execution_count": 134,
   "id": "consecutive-gentleman",
   "metadata": {},
   "outputs": [
    {
     "data": {
      "text/plain": [
       "<AxesSubplot:xlabel='distance', ylabel='gold_mined'>"
      ]
     },
     "execution_count": 134,
     "metadata": {},
     "output_type": "execute_result"
    },
    {
     "data": {
      "image/png": "[encoded data removed]",
      "text/plain": [
       "<Figure size 432x288 with 1 Axes>"
      ]
     },
     "metadata": {},
     "output_type": "display_data"
    }
   ],
   "source": [
    "sns.lineplot(data=df_distance_2015, x='distance', y='gold_mined')"
   ]
  },
  {
   "cell_type": "code",
   "execution_count": 139,
   "id": "surrounded-steps",
   "metadata": {},
   "outputs": [
    {
     "data": {
      "text/html": [
       "<div>\n",
       "<style scoped>\n",
       "    .dataframe tbody tr th:only-of-type {\n",
       "        vertical-align: middle;\n",
       "    }\n",
       "\n",
       "    .dataframe tbody tr th {\n",
       "        vertical-align: top;\n",
       "    }\n",
       "\n",
       "    .dataframe thead th {\n",
       "        text-align: right;\n",
       "    }\n",
       "</style>\n",
       "<table border=\"1\" class=\"dataframe\">\n",
       "  <thead>\n",
       "    <tr style=\"text-align: right;\">\n",
       "      <th></th>\n",
       "      <th>dwarf_id</th>\n",
       "      <th>hired_date</th>\n",
       "      <th>reported_date</th>\n",
       "      <th>gold_mined</th>\n",
       "      <th>hammer_date</th>\n",
       "      <th>yar</th>\n",
       "      <th>distance</th>\n",
       "    </tr>\n",
       "  </thead>\n",
       "  <tbody>\n",
       "    <tr>\n",
       "      <th>0</th>\n",
       "      <td>1</td>\n",
       "      <td>2014-01-01</td>\n",
       "      <td>2014-01-31</td>\n",
       "      <td>656</td>\n",
       "      <td>2014-01-01</td>\n",
       "      <td>2014-01-01</td>\n",
       "      <td>30</td>\n",
       "    </tr>\n",
       "    <tr>\n",
       "      <th>1</th>\n",
       "      <td>1</td>\n",
       "      <td>2014-01-01</td>\n",
       "      <td>2014-02-28</td>\n",
       "      <td>565</td>\n",
       "      <td>2014-01-01</td>\n",
       "      <td>2014-01-01</td>\n",
       "      <td>58</td>\n",
       "    </tr>\n",
       "    <tr>\n",
       "      <th>2</th>\n",
       "      <td>1</td>\n",
       "      <td>2014-01-01</td>\n",
       "      <td>2014-03-31</td>\n",
       "      <td>516</td>\n",
       "      <td>2014-01-01</td>\n",
       "      <td>2014-01-01</td>\n",
       "      <td>89</td>\n",
       "    </tr>\n",
       "    <tr>\n",
       "      <th>3</th>\n",
       "      <td>1</td>\n",
       "      <td>2014-01-01</td>\n",
       "      <td>2014-04-30</td>\n",
       "      <td>568</td>\n",
       "      <td>2014-01-01</td>\n",
       "      <td>2014-01-01</td>\n",
       "      <td>119</td>\n",
       "    </tr>\n",
       "    <tr>\n",
       "      <th>4</th>\n",
       "      <td>1</td>\n",
       "      <td>2014-01-01</td>\n",
       "      <td>2014-05-31</td>\n",
       "      <td>556</td>\n",
       "      <td>2014-01-01</td>\n",
       "      <td>2014-01-01</td>\n",
       "      <td>150</td>\n",
       "    </tr>\n",
       "    <tr>\n",
       "      <th>...</th>\n",
       "      <td>...</td>\n",
       "      <td>...</td>\n",
       "      <td>...</td>\n",
       "      <td>...</td>\n",
       "      <td>...</td>\n",
       "      <td>...</td>\n",
       "      <td>...</td>\n",
       "    </tr>\n",
       "    <tr>\n",
       "      <th>13488</th>\n",
       "      <td>2673</td>\n",
       "      <td>2015-08-01</td>\n",
       "      <td>2015-08-31</td>\n",
       "      <td>695</td>\n",
       "      <td>2015-01-01</td>\n",
       "      <td>2015-01-01</td>\n",
       "      <td>30</td>\n",
       "    </tr>\n",
       "    <tr>\n",
       "      <th>13489</th>\n",
       "      <td>2674</td>\n",
       "      <td>2015-08-01</td>\n",
       "      <td>2015-08-31</td>\n",
       "      <td>573</td>\n",
       "      <td>2015-01-01</td>\n",
       "      <td>2015-01-01</td>\n",
       "      <td>30</td>\n",
       "    </tr>\n",
       "    <tr>\n",
       "      <th>13490</th>\n",
       "      <td>2675</td>\n",
       "      <td>2015-08-01</td>\n",
       "      <td>2015-08-31</td>\n",
       "      <td>617</td>\n",
       "      <td>2015-01-01</td>\n",
       "      <td>2015-01-01</td>\n",
       "      <td>30</td>\n",
       "    </tr>\n",
       "    <tr>\n",
       "      <th>13491</th>\n",
       "      <td>2676</td>\n",
       "      <td>2015-08-01</td>\n",
       "      <td>2015-08-31</td>\n",
       "      <td>609</td>\n",
       "      <td>2015-01-01</td>\n",
       "      <td>2015-01-01</td>\n",
       "      <td>30</td>\n",
       "    </tr>\n",
       "    <tr>\n",
       "      <th>13492</th>\n",
       "      <td>2677</td>\n",
       "      <td>2015-08-01</td>\n",
       "      <td>2015-08-31</td>\n",
       "      <td>622</td>\n",
       "      <td>2015-01-01</td>\n",
       "      <td>2015-01-01</td>\n",
       "      <td>30</td>\n",
       "    </tr>\n",
       "  </tbody>\n",
       "</table>\n",
       "<p>13493 rows × 7 columns</p>\n",
       "</div>"
      ],
      "text/plain": [
       "       dwarf_id hired_date reported_date  gold_mined hammer_date        yar  \\\n",
       "0             1 2014-01-01    2014-01-31         656  2014-01-01 2014-01-01   \n",
       "1             1 2014-01-01    2014-02-28         565  2014-01-01 2014-01-01   \n",
       "2             1 2014-01-01    2014-03-31         516  2014-01-01 2014-01-01   \n",
       "3             1 2014-01-01    2014-04-30         568  2014-01-01 2014-01-01   \n",
       "4             1 2014-01-01    2014-05-31         556  2014-01-01 2014-01-01   \n",
       "...         ...        ...           ...         ...         ...        ...   \n",
       "13488      2673 2015-08-01    2015-08-31         695  2015-01-01 2015-01-01   \n",
       "13489      2674 2015-08-01    2015-08-31         573  2015-01-01 2015-01-01   \n",
       "13490      2675 2015-08-01    2015-08-31         617  2015-01-01 2015-01-01   \n",
       "13491      2676 2015-08-01    2015-08-31         609  2015-01-01 2015-01-01   \n",
       "13492      2677 2015-08-01    2015-08-31         622  2015-01-01 2015-01-01   \n",
       "\n",
       "       distance  \n",
       "0            30  \n",
       "1            58  \n",
       "2            89  \n",
       "3           119  \n",
       "4           150  \n",
       "...         ...  \n",
       "13488        30  \n",
       "13489        30  \n",
       "13490        30  \n",
       "13491        30  \n",
       "13492        30  \n",
       "\n",
       "[13493 rows x 7 columns]"
      ]
     },
     "execution_count": 139,
     "metadata": {},
     "output_type": "execute_result"
    }
   ],
   "source": [
    "df"
   ]
  },
  {
   "cell_type": "code",
   "execution_count": 159,
   "id": "respective-cliff",
   "metadata": {},
   "outputs": [],
   "source": [
    "df_2014_agg = df.query('hammer_date == \"2014-01-01\" and reported_date < \"2014-08-31\"')\\\n",
    "    .groupby('dwarf_id', as_index=False)\\\n",
    "    .agg({'gold_mined':'sum', 'distance':'max'})\n",
    "\n",
    "df_2014_agg['mean_gold_in_day'] = df_2014_agg['gold_mined'] / df_2014_agg['distance']\n"
   ]
  },
  {
   "cell_type": "code",
   "execution_count": null,
   "id": "viral-original",
   "metadata": {},
   "outputs": [],
   "source": []
  },
  {
   "cell_type": "code",
   "execution_count": 151,
   "id": "honest-throw",
   "metadata": {},
   "outputs": [],
   "source": [
    "df_2015_agg = df.query('hammer_date == \"2015-01-01\" and reported_date > \"2015-01-01\"')\\\n",
    "    .groupby('dwarf_id', as_index=False)\\\n",
    "    .agg({'gold_mined':'sum', 'distance':'max'})\n",
    "\n",
    "df_2015_agg['mean_gold_in_day'] = df_2015_agg['gold_mined'] / df_2015_agg['distance']"
   ]
  },
  {
   "cell_type": "code",
   "execution_count": 152,
   "id": "effective-portal",
   "metadata": {},
   "outputs": [
    {
     "data": {
      "text/html": [
       "<div>\n",
       "<style scoped>\n",
       "    .dataframe tbody tr th:only-of-type {\n",
       "        vertical-align: middle;\n",
       "    }\n",
       "\n",
       "    .dataframe tbody tr th {\n",
       "        vertical-align: top;\n",
       "    }\n",
       "\n",
       "    .dataframe thead th {\n",
       "        text-align: right;\n",
       "    }\n",
       "</style>\n",
       "<table border=\"1\" class=\"dataframe\">\n",
       "  <thead>\n",
       "    <tr style=\"text-align: right;\">\n",
       "      <th></th>\n",
       "      <th>dwarf_id</th>\n",
       "      <th>gold_mined</th>\n",
       "      <th>distance</th>\n",
       "      <th>mean_gold_in_day</th>\n",
       "    </tr>\n",
       "  </thead>\n",
       "  <tbody>\n",
       "    <tr>\n",
       "      <th>0</th>\n",
       "      <td>532</td>\n",
       "      <td>4714</td>\n",
       "      <td>242</td>\n",
       "      <td>19.479339</td>\n",
       "    </tr>\n",
       "    <tr>\n",
       "      <th>1</th>\n",
       "      <td>533</td>\n",
       "      <td>4526</td>\n",
       "      <td>242</td>\n",
       "      <td>18.702479</td>\n",
       "    </tr>\n",
       "    <tr>\n",
       "      <th>2</th>\n",
       "      <td>534</td>\n",
       "      <td>4598</td>\n",
       "      <td>242</td>\n",
       "      <td>19.000000</td>\n",
       "    </tr>\n",
       "    <tr>\n",
       "      <th>3</th>\n",
       "      <td>535</td>\n",
       "      <td>4704</td>\n",
       "      <td>242</td>\n",
       "      <td>19.438017</td>\n",
       "    </tr>\n",
       "    <tr>\n",
       "      <th>4</th>\n",
       "      <td>536</td>\n",
       "      <td>4528</td>\n",
       "      <td>242</td>\n",
       "      <td>18.710744</td>\n",
       "    </tr>\n",
       "    <tr>\n",
       "      <th>...</th>\n",
       "      <td>...</td>\n",
       "      <td>...</td>\n",
       "      <td>...</td>\n",
       "      <td>...</td>\n",
       "    </tr>\n",
       "    <tr>\n",
       "      <th>2141</th>\n",
       "      <td>2673</td>\n",
       "      <td>695</td>\n",
       "      <td>30</td>\n",
       "      <td>23.166667</td>\n",
       "    </tr>\n",
       "    <tr>\n",
       "      <th>2142</th>\n",
       "      <td>2674</td>\n",
       "      <td>573</td>\n",
       "      <td>30</td>\n",
       "      <td>19.100000</td>\n",
       "    </tr>\n",
       "    <tr>\n",
       "      <th>2143</th>\n",
       "      <td>2675</td>\n",
       "      <td>617</td>\n",
       "      <td>30</td>\n",
       "      <td>20.566667</td>\n",
       "    </tr>\n",
       "    <tr>\n",
       "      <th>2144</th>\n",
       "      <td>2676</td>\n",
       "      <td>609</td>\n",
       "      <td>30</td>\n",
       "      <td>20.300000</td>\n",
       "    </tr>\n",
       "    <tr>\n",
       "      <th>2145</th>\n",
       "      <td>2677</td>\n",
       "      <td>622</td>\n",
       "      <td>30</td>\n",
       "      <td>20.733333</td>\n",
       "    </tr>\n",
       "  </tbody>\n",
       "</table>\n",
       "<p>2146 rows × 4 columns</p>\n",
       "</div>"
      ],
      "text/plain": [
       "      dwarf_id  gold_mined  distance  mean_gold_in_day\n",
       "0          532        4714       242         19.479339\n",
       "1          533        4526       242         18.702479\n",
       "2          534        4598       242         19.000000\n",
       "3          535        4704       242         19.438017\n",
       "4          536        4528       242         18.710744\n",
       "...        ...         ...       ...               ...\n",
       "2141      2673         695        30         23.166667\n",
       "2142      2674         573        30         19.100000\n",
       "2143      2675         617        30         20.566667\n",
       "2144      2676         609        30         20.300000\n",
       "2145      2677         622        30         20.733333\n",
       "\n",
       "[2146 rows x 4 columns]"
      ]
     },
     "execution_count": 152,
     "metadata": {},
     "output_type": "execute_result"
    }
   ],
   "source": [
    "df_2015_agg"
   ]
  },
  {
   "cell_type": "code",
   "execution_count": 161,
   "id": "killing-hardware",
   "metadata": {},
   "outputs": [
    {
     "data": {
      "text/plain": [
       "19.43211454421569"
      ]
     },
     "execution_count": 161,
     "metadata": {},
     "output_type": "execute_result"
    }
   ],
   "source": [
    "df_2014_agg.mean_gold_in_day.mean()"
   ]
  },
  {
   "cell_type": "code",
   "execution_count": 162,
   "id": "official-crisis",
   "metadata": {},
   "outputs": [
    {
     "data": {
      "text/plain": [
       "20.482883950543048"
      ]
     },
     "execution_count": 162,
     "metadata": {},
     "output_type": "execute_result"
    }
   ],
   "source": [
    "df_2015_agg.mean_gold_in_day.mean()"
   ]
  },
  {
   "cell_type": "code",
   "execution_count": 160,
   "id": "senior-improvement",
   "metadata": {},
   "outputs": [
    {
     "name": "stderr",
     "output_type": "stream",
     "text": [
      "c:\\users\\влдислав\\appdata\\local\\programs\\python\\python39\\lib\\site-packages\\seaborn\\distributions.py:2557: FutureWarning: `distplot` is a deprecated function and will be removed in a future version. Please adapt your code to use either `displot` (a figure-level function with similar flexibility) or `histplot` (an axes-level function for histograms).\n",
      "  warnings.warn(msg, FutureWarning)\n",
      "c:\\users\\влдислав\\appdata\\local\\programs\\python\\python39\\lib\\site-packages\\seaborn\\distributions.py:2557: FutureWarning: `distplot` is a deprecated function and will be removed in a future version. Please adapt your code to use either `displot` (a figure-level function with similar flexibility) or `histplot` (an axes-level function for histograms).\n",
      "  warnings.warn(msg, FutureWarning)\n"
     ]
    },
    {
     "data": {
      "text/plain": [
       "<AxesSubplot:xlabel='mean_gold_in_day', ylabel='Density'>"
      ]
     },
     "execution_count": 160,
     "metadata": {},
     "output_type": "execute_result"
    },
    {
     "data": {
      "image/png": "[encoded data removed]",
      "text/plain": [
       "<Figure size 432x288 with 1 Axes>"
      ]
     },
     "metadata": {},
     "output_type": "display_data"
    }
   ],
   "source": [
    "sns.distplot(df_2014_agg.mean_gold_in_day)\n",
    "sns.distplot(df_2015_agg.mean_gold_in_day)"
   ]
  },
  {
   "cell_type": "markdown",
   "id": "alpha-aruba",
   "metadata": {},
   "source": [
    "Сформулируем гипотезы:\n",
    "    \n",
    "H0 - между средними двух совокупностей разницы нет.\n",
    "\n",
    "H1 - между средними двух совокупностей есть разница."
   ]
  },
  {
   "cell_type": "code",
   "execution_count": null,
   "id": "formed-reputation",
   "metadata": {},
   "outputs": [],
   "source": []
  },
  {
   "cell_type": "code",
   "execution_count": 156,
   "id": "regular-classroom",
   "metadata": {},
   "outputs": [],
   "source": [
    "# Объявим функцию, которая позволит проверять гипотезы с помощью бутстрапа\n",
    "def get_bootstrap(\n",
    "    group_control, # числовые значения первой выборки\n",
    "    group_test, # числовые значения второй выборки\n",
    "    boot_it = 1000, # количество бутстрэп-подвыборок\n",
    "    statistic = np.mean, # интересующая нас статистика\n",
    "    bootstrap_conf_level = 0.95 # уровень значимости\n",
    "):\n",
    "    boot_len = max([len(group_control), len(group_test)])\n",
    "    boot_data = []\n",
    "    for i in tqdm(range(boot_it)): # извлекаем подвыборки\n",
    "        samples_1 = group_control.sample(\n",
    "            boot_len, \n",
    "            replace = True # параметр возвращения\n",
    "        ).values\n",
    "        \n",
    "        samples_2 = group_test.sample(\n",
    "            boot_len, \n",
    "            replace = True\n",
    "        ).values\n",
    "        \n",
    "        boot_data.append(statistic(samples_1-samples_2)) # mean() - применяем статистику\n",
    "        \n",
    "    pd_boot_data = pd.DataFrame(boot_data)\n",
    "        \n",
    "    left_quant = (1 - bootstrap_conf_level)/2\n",
    "    right_quant = 1 - (1 - bootstrap_conf_level) / 2\n",
    "    ci = pd_boot_data.quantile([left_quant, right_quant])\n",
    "        \n",
    "    p_1 = norm.cdf(\n",
    "        x = 0, \n",
    "        loc = np.mean(boot_data), \n",
    "        scale = np.std(boot_data)\n",
    "    )\n",
    "    p_2 = norm.cdf(\n",
    "        x = 0, \n",
    "        loc = -np.mean(boot_data), \n",
    "        scale = np.std(boot_data)\n",
    "    )\n",
    "    p_value = min(p_1, p_2) * 2\n",
    "        \n",
    "    # Визуализация\n",
    "    plt.hist(pd_boot_data[0], bins = 50)\n",
    "    \n",
    "    plt.style.use('ggplot')\n",
    "    plt.vlines(ci,ymin=0,ymax=50,linestyle='--')\n",
    "    plt.xlabel('boot_data')\n",
    "    plt.ylabel('frequency')\n",
    "    plt.title(\"Histogram of boot_data\")\n",
    "    plt.show()\n",
    "       \n",
    "    return { \n",
    "            \"ci\": ci, \n",
    "            \"p_value\": p_value}"
   ]
  },
  {
   "cell_type": "code",
   "execution_count": 163,
   "id": "simplified-eagle",
   "metadata": {},
   "outputs": [
    {
     "data": {
      "application/vnd.jupyter.widget-view+json": {
       "model_id": "cef726ede9334e7985069b8cc7b0edf9",
       "version_major": 2,
       "version_minor": 0
      },
      "text/plain": [
       "  0%|          | 0/2000 [00:00<?, ?it/s]"
      ]
     },
     "metadata": {},
     "output_type": "display_data"
    },
    {
     "data": {
      "image/png": "[encoded data removed]",
      "text/plain": [
       "<Figure size 432x288 with 1 Axes>"
      ]
     },
     "metadata": {},
     "output_type": "display_data"
    },
    {
     "data": {
      "text/plain": [
       "{'ci':               0\n",
       " 0.025 -1.101283\n",
       " 0.975 -1.001245,\n",
       " 'p_value': 0.0}"
      ]
     },
     "execution_count": 163,
     "metadata": {},
     "output_type": "execute_result"
    }
   ],
   "source": [
    "get_bootstrap(df_2014_agg.mean_gold_in_day, df_2015_agg.mean_gold_in_day , boot_it = 2000)"
   ]
  },
  {
   "cell_type": "markdown",
   "id": "fabulous-needle",
   "metadata": {},
   "source": [
    "Отвергаем нулевую гипотезу о равестве средни и принимаем альтернативную гипотезу о том, что в группе Б (2015 года) средний сбор золота в день выше"
   ]
  },
  {
   "cell_type": "code",
   "execution_count": null,
   "id": "immune-treasury",
   "metadata": {},
   "outputs": [],
   "source": []
  },
  {
   "cell_type": "code",
   "execution_count": 141,
   "id": "constitutional-amber",
   "metadata": {},
   "outputs": [],
   "source": [
    "# Мы можем видеть нисходящую динамику, т.е. чем больше работает гном, тем продуктивнее это делает\n",
    "# Дополнительно проверим доход на новых гномах - в рамках 30 дней с момента времени жизни"
   ]
  },
  {
   "cell_type": "code",
   "execution_count": 164,
   "id": "maritime-transfer",
   "metadata": {},
   "outputs": [],
   "source": [
    "df_2014_agg_distance_30 = df.query('hammer_date == \"2014-01-01\" and reported_date < \"2014-08-31\" and distance <= 30')\\\n",
    "    .groupby('dwarf_id', as_index=False)\\\n",
    "    .agg({'gold_mined':'sum', 'distance':'max'})\n",
    "\n",
    "df_2014_agg_distance_30['mean_gold_in_day'] = df_2014_agg['gold_mined'] / df_2014_agg['distance']\n"
   ]
  },
  {
   "cell_type": "code",
   "execution_count": 165,
   "id": "decimal-liverpool",
   "metadata": {},
   "outputs": [
    {
     "data": {
      "text/html": [
       "<div>\n",
       "<style scoped>\n",
       "    .dataframe tbody tr th:only-of-type {\n",
       "        vertical-align: middle;\n",
       "    }\n",
       "\n",
       "    .dataframe tbody tr th {\n",
       "        vertical-align: top;\n",
       "    }\n",
       "\n",
       "    .dataframe thead th {\n",
       "        text-align: right;\n",
       "    }\n",
       "</style>\n",
       "<table border=\"1\" class=\"dataframe\">\n",
       "  <thead>\n",
       "    <tr style=\"text-align: right;\">\n",
       "      <th></th>\n",
       "      <th>dwarf_id</th>\n",
       "      <th>gold_mined</th>\n",
       "      <th>distance</th>\n",
       "      <th>mean_gold_in_day</th>\n",
       "    </tr>\n",
       "  </thead>\n",
       "  <tbody>\n",
       "    <tr>\n",
       "      <th>0</th>\n",
       "      <td>1</td>\n",
       "      <td>656</td>\n",
       "      <td>30</td>\n",
       "      <td>18.663507</td>\n",
       "    </tr>\n",
       "    <tr>\n",
       "      <th>1</th>\n",
       "      <td>2</td>\n",
       "      <td>561</td>\n",
       "      <td>30</td>\n",
       "      <td>18.620853</td>\n",
       "    </tr>\n",
       "    <tr>\n",
       "      <th>2</th>\n",
       "      <td>3</td>\n",
       "      <td>641</td>\n",
       "      <td>30</td>\n",
       "      <td>18.597156</td>\n",
       "    </tr>\n",
       "    <tr>\n",
       "      <th>3</th>\n",
       "      <td>4</td>\n",
       "      <td>567</td>\n",
       "      <td>30</td>\n",
       "      <td>18.924171</td>\n",
       "    </tr>\n",
       "    <tr>\n",
       "      <th>4</th>\n",
       "      <td>5</td>\n",
       "      <td>608</td>\n",
       "      <td>30</td>\n",
       "      <td>19.502370</td>\n",
       "    </tr>\n",
       "    <tr>\n",
       "      <th>...</th>\n",
       "      <td>...</td>\n",
       "      <td>...</td>\n",
       "      <td>...</td>\n",
       "      <td>...</td>\n",
       "    </tr>\n",
       "    <tr>\n",
       "      <th>192</th>\n",
       "      <td>193</td>\n",
       "      <td>612</td>\n",
       "      <td>30</td>\n",
       "      <td>20.400000</td>\n",
       "    </tr>\n",
       "    <tr>\n",
       "      <th>193</th>\n",
       "      <td>194</td>\n",
       "      <td>586</td>\n",
       "      <td>30</td>\n",
       "      <td>19.533333</td>\n",
       "    </tr>\n",
       "    <tr>\n",
       "      <th>194</th>\n",
       "      <td>195</td>\n",
       "      <td>639</td>\n",
       "      <td>30</td>\n",
       "      <td>21.300000</td>\n",
       "    </tr>\n",
       "    <tr>\n",
       "      <th>195</th>\n",
       "      <td>196</td>\n",
       "      <td>599</td>\n",
       "      <td>30</td>\n",
       "      <td>19.966667</td>\n",
       "    </tr>\n",
       "    <tr>\n",
       "      <th>196</th>\n",
       "      <td>197</td>\n",
       "      <td>599</td>\n",
       "      <td>30</td>\n",
       "      <td>19.966667</td>\n",
       "    </tr>\n",
       "  </tbody>\n",
       "</table>\n",
       "<p>197 rows × 4 columns</p>\n",
       "</div>"
      ],
      "text/plain": [
       "     dwarf_id  gold_mined  distance  mean_gold_in_day\n",
       "0           1         656        30         18.663507\n",
       "1           2         561        30         18.620853\n",
       "2           3         641        30         18.597156\n",
       "3           4         567        30         18.924171\n",
       "4           5         608        30         19.502370\n",
       "..        ...         ...       ...               ...\n",
       "192       193         612        30         20.400000\n",
       "193       194         586        30         19.533333\n",
       "194       195         639        30         21.300000\n",
       "195       196         599        30         19.966667\n",
       "196       197         599        30         19.966667\n",
       "\n",
       "[197 rows x 4 columns]"
      ]
     },
     "execution_count": 165,
     "metadata": {},
     "output_type": "execute_result"
    }
   ],
   "source": [
    "df_2014_agg_distance_30"
   ]
  },
  {
   "cell_type": "code",
   "execution_count": 168,
   "id": "hearing-denmark",
   "metadata": {},
   "outputs": [
    {
     "data": {
      "text/html": [
       "<div>\n",
       "<style scoped>\n",
       "    .dataframe tbody tr th:only-of-type {\n",
       "        vertical-align: middle;\n",
       "    }\n",
       "\n",
       "    .dataframe tbody tr th {\n",
       "        vertical-align: top;\n",
       "    }\n",
       "\n",
       "    .dataframe thead th {\n",
       "        text-align: right;\n",
       "    }\n",
       "</style>\n",
       "<table border=\"1\" class=\"dataframe\">\n",
       "  <thead>\n",
       "    <tr style=\"text-align: right;\">\n",
       "      <th></th>\n",
       "      <th>dwarf_id</th>\n",
       "      <th>gold_mined</th>\n",
       "      <th>distance</th>\n",
       "      <th>mean_gold_in_day</th>\n",
       "    </tr>\n",
       "  </thead>\n",
       "  <tbody>\n",
       "    <tr>\n",
       "      <th>0</th>\n",
       "      <td>532</td>\n",
       "      <td>713</td>\n",
       "      <td>30</td>\n",
       "      <td>19.479339</td>\n",
       "    </tr>\n",
       "    <tr>\n",
       "      <th>1</th>\n",
       "      <td>533</td>\n",
       "      <td>632</td>\n",
       "      <td>30</td>\n",
       "      <td>18.702479</td>\n",
       "    </tr>\n",
       "    <tr>\n",
       "      <th>2</th>\n",
       "      <td>534</td>\n",
       "      <td>637</td>\n",
       "      <td>30</td>\n",
       "      <td>19.000000</td>\n",
       "    </tr>\n",
       "    <tr>\n",
       "      <th>3</th>\n",
       "      <td>535</td>\n",
       "      <td>646</td>\n",
       "      <td>30</td>\n",
       "      <td>19.438017</td>\n",
       "    </tr>\n",
       "    <tr>\n",
       "      <th>4</th>\n",
       "      <td>536</td>\n",
       "      <td>692</td>\n",
       "      <td>30</td>\n",
       "      <td>18.710744</td>\n",
       "    </tr>\n",
       "    <tr>\n",
       "      <th>...</th>\n",
       "      <td>...</td>\n",
       "      <td>...</td>\n",
       "      <td>...</td>\n",
       "      <td>...</td>\n",
       "    </tr>\n",
       "    <tr>\n",
       "      <th>2141</th>\n",
       "      <td>2673</td>\n",
       "      <td>695</td>\n",
       "      <td>30</td>\n",
       "      <td>23.166667</td>\n",
       "    </tr>\n",
       "    <tr>\n",
       "      <th>2142</th>\n",
       "      <td>2674</td>\n",
       "      <td>573</td>\n",
       "      <td>30</td>\n",
       "      <td>19.100000</td>\n",
       "    </tr>\n",
       "    <tr>\n",
       "      <th>2143</th>\n",
       "      <td>2675</td>\n",
       "      <td>617</td>\n",
       "      <td>30</td>\n",
       "      <td>20.566667</td>\n",
       "    </tr>\n",
       "    <tr>\n",
       "      <th>2144</th>\n",
       "      <td>2676</td>\n",
       "      <td>609</td>\n",
       "      <td>30</td>\n",
       "      <td>20.300000</td>\n",
       "    </tr>\n",
       "    <tr>\n",
       "      <th>2145</th>\n",
       "      <td>2677</td>\n",
       "      <td>622</td>\n",
       "      <td>30</td>\n",
       "      <td>20.733333</td>\n",
       "    </tr>\n",
       "  </tbody>\n",
       "</table>\n",
       "<p>2146 rows × 4 columns</p>\n",
       "</div>"
      ],
      "text/plain": [
       "      dwarf_id  gold_mined  distance  mean_gold_in_day\n",
       "0          532         713        30         19.479339\n",
       "1          533         632        30         18.702479\n",
       "2          534         637        30         19.000000\n",
       "3          535         646        30         19.438017\n",
       "4          536         692        30         18.710744\n",
       "...        ...         ...       ...               ...\n",
       "2141      2673         695        30         23.166667\n",
       "2142      2674         573        30         19.100000\n",
       "2143      2675         617        30         20.566667\n",
       "2144      2676         609        30         20.300000\n",
       "2145      2677         622        30         20.733333\n",
       "\n",
       "[2146 rows x 4 columns]"
      ]
     },
     "execution_count": 168,
     "metadata": {},
     "output_type": "execute_result"
    }
   ],
   "source": [
    "df_2015_agg_distance_30 = df.query('hammer_date == \"2015-01-01\" and reported_date > \"2015-01-01\" and distance <= 30')\\\n",
    "    .groupby('dwarf_id', as_index=False)\\\n",
    "    .agg({'gold_mined':'sum', 'distance':'max'})\n",
    "\n",
    "df_2015_agg_distance_30['mean_gold_in_day'] = df_2015_agg['gold_mined'] / df_2015_agg['distance']\n",
    "df_2015_agg_distance_30"
   ]
  },
  {
   "cell_type": "code",
   "execution_count": null,
   "id": "regular-inside",
   "metadata": {},
   "outputs": [],
   "source": []
  },
  {
   "cell_type": "code",
   "execution_count": 169,
   "id": "twelve-monster",
   "metadata": {},
   "outputs": [
    {
     "data": {
      "application/vnd.jupyter.widget-view+json": {
       "model_id": "79714619c9af4b8588122179f6768af8",
       "version_major": 2,
       "version_minor": 0
      },
      "text/plain": [
       "  0%|          | 0/2000 [00:00<?, ?it/s]"
      ]
     },
     "metadata": {},
     "output_type": "display_data"
    },
    {
     "data": {
      "image/png": "[encoded data removed]",
      "text/plain": [
       "<Figure size 432x288 with 1 Axes>"
      ]
     },
     "metadata": {},
     "output_type": "display_data"
    },
    {
     "data": {
      "text/plain": [
       "{'ci':               0\n",
       " 0.025 -1.102422\n",
       " 0.975 -1.001167,\n",
       " 'p_value': 0.0}"
      ]
     },
     "execution_count": 169,
     "metadata": {},
     "output_type": "execute_result"
    }
   ],
   "source": [
    "get_bootstrap(df_2014_agg_distance_30.mean_gold_in_day, df_2015_agg_distance_30.mean_gold_in_day , boot_it = 2000)"
   ]
  },
  {
   "cell_type": "markdown",
   "id": "alone-address",
   "metadata": {},
   "source": [
    " Для новых пользователей, также средний доход на одного пользователя в час выше при новой технологии"
   ]
  },
  {
   "cell_type": "markdown",
   "id": "divided-anaheim",
   "metadata": {},
   "source": [
    "1) Необходимо учесть, что золото добывалось в разное время и это не был честный А/Б тест - так не совсем рекомендуется делать.\n",
    "Например возможно докопали до какой то новой жили или что то изменилось и результат зависит не от изменений технологий. Или например в одном из году была эпедемия и гномы могли чувствовать себя хуже на фоне болезни\n",
    "\n",
    "2) Честный а/б тест - мы бы на одном руднике и не смогли бы провести т.к. есть риск сетевого эффекта и могла измениться мотивация для работы одной из групп - и когортный анализ здесь меньшее зло.\n",
    "В целом считаем допустимым\n",
    "\n",
    "По итогу - оставляем новую версию оборудования. Ген директор ошибался. "
   ]
  },
  {
   "cell_type": "code",
   "execution_count": null,
   "id": "basic-finish",
   "metadata": {},
   "outputs": [],
   "source": []
  }
 ],
 "metadata": {
  "kernelspec": {
   "display_name": "Python 3",
   "language": "python",
   "name": "python3"
  },
  "language_info": {
   "codemirror_mode": {
    "name": "ipython",
    "version": 3
   },
   "file_extension": ".py",
   "mimetype": "text/x-python",
   "name": "python",
   "nbconvert_exporter": "python",
   "pygments_lexer": "ipython3",
   "version": "3.9.2"
  }
 },
 "nbformat": 4,
 "nbformat_minor": 5
}
